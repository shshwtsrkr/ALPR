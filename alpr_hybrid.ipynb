{
  "cells": [
    {
      "cell_type": "markdown",
      "metadata": {
        "id": "view-in-github",
        "colab_type": "text"
      },
      "source": [
        "<a href=\"https://colab.research.google.com/github/shshwtsrkr/Automatic-License-Plate-Recognition/blob/main/alpr_hybrid.ipynb\" target=\"_parent\"><img src=\"https://colab.research.google.com/assets/colab-badge.svg\" alt=\"Open In Colab\"/></a>"
      ]
    },
    {
      "cell_type": "code",
      "execution_count": 1,
      "metadata": {
        "colab": {
          "base_uri": "https://localhost:8080/"
        },
        "id": "Q5XQF8ylxM-M",
        "outputId": "a3145b41-7e23-46e5-8860-b08e52f4b79b"
      },
      "outputs": [
        {
          "output_type": "stream",
          "name": "stdout",
          "text": [
            "Drive already mounted at /content/drive/; to attempt to forcibly remount, call drive.mount(\"/content/drive/\", force_remount=True).\n"
          ]
        }
      ],
      "source": [
        "from google.colab import drive\n",
        "import os\n",
        "drive.mount('/content/drive/')"
      ]
    },
    {
      "cell_type": "code",
      "execution_count": 2,
      "metadata": {
        "id": "Weoqz1B2yIY5"
      },
      "outputs": [],
      "source": [
        "gdir = '/content/drive/MyDrive/colab/'"
      ]
    },
    {
      "cell_type": "code",
      "execution_count": 3,
      "metadata": {
        "id": "E6OpZBCM4NcB"
      },
      "outputs": [],
      "source": [
        "import numpy as np\n",
        "import pandas as pd\n",
        "import cv2\n",
        "import imutils\n",
        "import matplotlib.pyplot as plt\n",
        "import math\n",
        "import tensorflow as tf\n",
        "import keras\n",
        "K = keras.backend\n",
        "from sklearn.metrics import f1_score \n",
        "from tensorflow.keras import optimizers\n",
        "from tensorflow.keras.models import Sequential\n",
        "from tensorflow.keras.preprocessing.image import ImageDataGenerator\n",
        "from tensorflow.keras.layers import Dense, Flatten, MaxPooling2D, Dropout, Conv2D\n",
        "from IPython.display import Image\n",
        "import argparse\n",
        "import os"
      ]
    },
    {
      "cell_type": "code",
      "execution_count": 4,
      "metadata": {
        "id": "5MQglRMT4R7f"
      },
      "outputs": [],
      "source": [
        "test_dir = os.listdir(gdir + 'datasets/test_dataset/test_dataset/')"
      ]
    },
    {
      "cell_type": "markdown",
      "metadata": {
        "id": "Y3g2h9Ah5YGN"
      },
      "source": [
        "Import datasets"
      ]
    },
    {
      "cell_type": "code",
      "execution_count": 5,
      "metadata": {
        "colab": {
          "base_uri": "https://localhost:8080/",
          "height": 423
        },
        "id": "GtOjtQtT5Z4K",
        "outputId": "618161e7-8968-46af-ab49-2d3079d315aa"
      },
      "outputs": [
        {
          "output_type": "execute_result",
          "data": {
            "text/plain": [
              "      ID       NUMBER\n",
              "0      1    KL55R2473\n",
              "1      2  GJW115A1138\n",
              "2      3    KL16J3636\n",
              "3      4   MH20EE7598\n",
              "4      5      PJJ1L76\n",
              "..   ...          ...\n",
              "181  182      DHF5B15\n",
              "182  183      DBJ5R59\n",
              "183  184      LVY8X45\n",
              "184  185      YYD6B61\n",
              "185  186      CHI4A30\n",
              "\n",
              "[186 rows x 2 columns]"
            ],
            "text/html": [
              "\n",
              "  <div id=\"df-a255bf14-8108-4999-97ba-d70f2e7802e9\">\n",
              "    <div class=\"colab-df-container\">\n",
              "      <div>\n",
              "<style scoped>\n",
              "    .dataframe tbody tr th:only-of-type {\n",
              "        vertical-align: middle;\n",
              "    }\n",
              "\n",
              "    .dataframe tbody tr th {\n",
              "        vertical-align: top;\n",
              "    }\n",
              "\n",
              "    .dataframe thead th {\n",
              "        text-align: right;\n",
              "    }\n",
              "</style>\n",
              "<table border=\"1\" class=\"dataframe\">\n",
              "  <thead>\n",
              "    <tr style=\"text-align: right;\">\n",
              "      <th></th>\n",
              "      <th>ID</th>\n",
              "      <th>NUMBER</th>\n",
              "    </tr>\n",
              "  </thead>\n",
              "  <tbody>\n",
              "    <tr>\n",
              "      <th>0</th>\n",
              "      <td>1</td>\n",
              "      <td>KL55R2473</td>\n",
              "    </tr>\n",
              "    <tr>\n",
              "      <th>1</th>\n",
              "      <td>2</td>\n",
              "      <td>GJW115A1138</td>\n",
              "    </tr>\n",
              "    <tr>\n",
              "      <th>2</th>\n",
              "      <td>3</td>\n",
              "      <td>KL16J3636</td>\n",
              "    </tr>\n",
              "    <tr>\n",
              "      <th>3</th>\n",
              "      <td>4</td>\n",
              "      <td>MH20EE7598</td>\n",
              "    </tr>\n",
              "    <tr>\n",
              "      <th>4</th>\n",
              "      <td>5</td>\n",
              "      <td>PJJ1L76</td>\n",
              "    </tr>\n",
              "    <tr>\n",
              "      <th>...</th>\n",
              "      <td>...</td>\n",
              "      <td>...</td>\n",
              "    </tr>\n",
              "    <tr>\n",
              "      <th>181</th>\n",
              "      <td>182</td>\n",
              "      <td>DHF5B15</td>\n",
              "    </tr>\n",
              "    <tr>\n",
              "      <th>182</th>\n",
              "      <td>183</td>\n",
              "      <td>DBJ5R59</td>\n",
              "    </tr>\n",
              "    <tr>\n",
              "      <th>183</th>\n",
              "      <td>184</td>\n",
              "      <td>LVY8X45</td>\n",
              "    </tr>\n",
              "    <tr>\n",
              "      <th>184</th>\n",
              "      <td>185</td>\n",
              "      <td>YYD6B61</td>\n",
              "    </tr>\n",
              "    <tr>\n",
              "      <th>185</th>\n",
              "      <td>186</td>\n",
              "      <td>CHI4A30</td>\n",
              "    </tr>\n",
              "  </tbody>\n",
              "</table>\n",
              "<p>186 rows × 2 columns</p>\n",
              "</div>\n",
              "      <button class=\"colab-df-convert\" onclick=\"convertToInteractive('df-a255bf14-8108-4999-97ba-d70f2e7802e9')\"\n",
              "              title=\"Convert this dataframe to an interactive table.\"\n",
              "              style=\"display:none;\">\n",
              "        \n",
              "  <svg xmlns=\"http://www.w3.org/2000/svg\" height=\"24px\"viewBox=\"0 0 24 24\"\n",
              "       width=\"24px\">\n",
              "    <path d=\"M0 0h24v24H0V0z\" fill=\"none\"/>\n",
              "    <path d=\"M18.56 5.44l.94 2.06.94-2.06 2.06-.94-2.06-.94-.94-2.06-.94 2.06-2.06.94zm-11 1L8.5 8.5l.94-2.06 2.06-.94-2.06-.94L8.5 2.5l-.94 2.06-2.06.94zm10 10l.94 2.06.94-2.06 2.06-.94-2.06-.94-.94-2.06-.94 2.06-2.06.94z\"/><path d=\"M17.41 7.96l-1.37-1.37c-.4-.4-.92-.59-1.43-.59-.52 0-1.04.2-1.43.59L10.3 9.45l-7.72 7.72c-.78.78-.78 2.05 0 2.83L4 21.41c.39.39.9.59 1.41.59.51 0 1.02-.2 1.41-.59l7.78-7.78 2.81-2.81c.8-.78.8-2.07 0-2.86zM5.41 20L4 18.59l7.72-7.72 1.47 1.35L5.41 20z\"/>\n",
              "  </svg>\n",
              "      </button>\n",
              "      \n",
              "  <style>\n",
              "    .colab-df-container {\n",
              "      display:flex;\n",
              "      flex-wrap:wrap;\n",
              "      gap: 12px;\n",
              "    }\n",
              "\n",
              "    .colab-df-convert {\n",
              "      background-color: #E8F0FE;\n",
              "      border: none;\n",
              "      border-radius: 50%;\n",
              "      cursor: pointer;\n",
              "      display: none;\n",
              "      fill: #1967D2;\n",
              "      height: 32px;\n",
              "      padding: 0 0 0 0;\n",
              "      width: 32px;\n",
              "    }\n",
              "\n",
              "    .colab-df-convert:hover {\n",
              "      background-color: #E2EBFA;\n",
              "      box-shadow: 0px 1px 2px rgba(60, 64, 67, 0.3), 0px 1px 3px 1px rgba(60, 64, 67, 0.15);\n",
              "      fill: #174EA6;\n",
              "    }\n",
              "\n",
              "    [theme=dark] .colab-df-convert {\n",
              "      background-color: #3B4455;\n",
              "      fill: #D2E3FC;\n",
              "    }\n",
              "\n",
              "    [theme=dark] .colab-df-convert:hover {\n",
              "      background-color: #434B5C;\n",
              "      box-shadow: 0px 1px 3px 1px rgba(0, 0, 0, 0.15);\n",
              "      filter: drop-shadow(0px 1px 2px rgba(0, 0, 0, 0.3));\n",
              "      fill: #FFFFFF;\n",
              "    }\n",
              "  </style>\n",
              "\n",
              "      <script>\n",
              "        const buttonEl =\n",
              "          document.querySelector('#df-a255bf14-8108-4999-97ba-d70f2e7802e9 button.colab-df-convert');\n",
              "        buttonEl.style.display =\n",
              "          google.colab.kernel.accessAllowed ? 'block' : 'none';\n",
              "\n",
              "        async function convertToInteractive(key) {\n",
              "          const element = document.querySelector('#df-a255bf14-8108-4999-97ba-d70f2e7802e9');\n",
              "          const dataTable =\n",
              "            await google.colab.kernel.invokeFunction('convertToInteractive',\n",
              "                                                     [key], {});\n",
              "          if (!dataTable) return;\n",
              "\n",
              "          const docLinkHtml = 'Like what you see? Visit the ' +\n",
              "            '<a target=\"_blank\" href=https://colab.research.google.com/notebooks/data_table.ipynb>data table notebook</a>'\n",
              "            + ' to learn more about interactive tables.';\n",
              "          element.innerHTML = '';\n",
              "          dataTable['output_type'] = 'display_data';\n",
              "          await google.colab.output.renderOutput(dataTable, element);\n",
              "          const docLink = document.createElement('div');\n",
              "          docLink.innerHTML = docLinkHtml;\n",
              "          element.appendChild(docLink);\n",
              "        }\n",
              "      </script>\n",
              "    </div>\n",
              "  </div>\n",
              "  "
            ]
          },
          "metadata": {},
          "execution_count": 5
        }
      ],
      "source": [
        "labels=pd.read_excel('/content/drive/MyDrive/colab/datasets/test_dataset/test_dataset/labels.xlsx')\n",
        "labels['ID']=labels['ID'].map(str)\n",
        "labels"
      ]
    },
    {
      "cell_type": "markdown",
      "metadata": {
        "id": "te8qkmXdB8BT"
      },
      "source": [
        "Contour detection"
      ]
    },
    {
      "cell_type": "code",
      "execution_count": 6,
      "metadata": {
        "id": "i4JtHAsS7zHU"
      },
      "outputs": [],
      "source": [
        "def eud(x1, x2, y1, y2):\n",
        "  return ((x2-x1)**2 + (y2-y1)**2)**0.5"
      ]
    },
    {
      "cell_type": "markdown",
      "metadata": {
        "id": "M66PFfTh8HLa"
      },
      "source": [
        "Functions used by YOLOv3"
      ]
    },
    {
      "cell_type": "code",
      "execution_count": 7,
      "metadata": {
        "id": "IPHL-Dlf8Niv"
      },
      "outputs": [],
      "source": [
        "# Load names of classes, configuration and weights\n",
        "class_file = gdir + \"yolo_utils/classes.names\";\n",
        "model_config = gdir + \"yolo_utils/darknet-yolov3.cfg\";\n",
        "model_weights = gdir + \"yolo_utils/lapi.weights\""
      ]
    },
    {
      "cell_type": "code",
      "execution_count": 8,
      "metadata": {
        "colab": {
          "base_uri": "https://localhost:8080/"
        },
        "id": "q0K0388iEBTX",
        "outputId": "0746d5c7-2b36-4462-a967-45fc5b129fc3"
      },
      "outputs": [
        {
          "output_type": "stream",
          "name": "stdout",
          "text": [
            "yolo_94\n",
            "[200 227 254]\n"
          ]
        }
      ],
      "source": [
        "classes = None\n",
        "conf_t = 0.5;\n",
        "nms_t = 0.4;\n",
        "inp_height, inp_width = 416, 416\n",
        "\n",
        "# with - ensures ensures proper closure of the file after usage\n",
        "# open(class_file, 'rt') - open the class_file in read mode\n",
        "# assign the file to variable f\n",
        "with open(class_file, 'rt') as f:\n",
        "\n",
        "  # read() - read the entire document as string\n",
        "  # rstrip() - remove all newlines from the string\n",
        "  # split() - splits strings into substrings using newline as the delimiters\n",
        "  classes = f.read().rstrip('\\n').split('\\n')\n",
        "\n",
        "# load the pre-trained model from darknet framework \n",
        "net = cv2.dnn.readNetFromDarknet(model_config, model_weights)\n",
        "\n",
        "# set preferable backend to implement the neural network\n",
        "# basically we set preferable backend to perform the neural net computations, here OPENCV\n",
        "net.setPreferableBackend(cv2.dnn.DNN_BACKEND_OPENCV)\n",
        "\n",
        "# set the desired device on which the computations must be done\n",
        "# cv2.dnn.DNN_TARGET_CPU - constant to use CPU as the target\n",
        "net.setPreferableTarget(cv2.dnn.DNN_TARGET_CPU)\n",
        "\n",
        "print(net.getLayerNames()[226])\n",
        "print(net.getUnconnectedOutLayers())"
      ]
    },
    {
      "cell_type": "code",
      "execution_count": 9,
      "metadata": {
        "id": "3RA68IAQL5-m"
      },
      "outputs": [],
      "source": [
        "def output_layer_names(net):\n",
        "  # get names of all layers\n",
        "  op_layers = net.getLayerNames()\n",
        "\n",
        "  # get names of output layers\n",
        "\n",
        "  # Output layers are used for classification tasks, where the goal is to predict the class of an object. They have a single layer with a softmax activation function, which outputs a probability distribution over the \n",
        "  # Unconnected output layers are used for object detection tasks, where the goal is to predict the location and class of an object. They have two layers, the first of which outputs the coordinates of a bounding box, and the second of which outputs a probability distribution over the classes\n",
        "  return [op_layers[i-1] for i in net.getUnconnectedOutLayers()]"
      ]
    },
    {
      "cell_type": "code",
      "execution_count": 10,
      "metadata": {
        "id": "JdBRtHPjRb1w"
      },
      "outputs": [],
      "source": [
        "def postprocess(frame, outs):\n",
        "  # defining height and width of the frame\n",
        "  frame_height = frame.shape[0]\n",
        "  frame_width = frame.shape[1]\n",
        "\n",
        "  class_ids = []\n",
        "  confidences = []\n",
        "  boxes = []\n",
        "\n",
        "  for out in outs: # output layer values value for an image\n",
        "    for detection in out: # one op layer value of an image\n",
        "\n",
        "      # 5 onwards because :-\n",
        "      # 0-4 (contains bounding box coordinates and other information for a detected object)\n",
        "      # 0-3 : x & y co-ordinates (center), width, height\n",
        "      # 4 : Class ID of the object (for LP : 1)\n",
        "      # 5-9 : confidence score for each class, basically specifies the probability that the detected object in the image belongs to a specified class.\n",
        "\n",
        "      scores = detection[5:] # contains confidence scores of each class\n",
        "      class_id = np.argmax(scores) # returns the class ID of the class with highest confidence, tells what the detected object is (by highest confidence score)\n",
        "      confidence = scores[class_id] # highest confidence score is stored\n",
        "\n",
        "      if confidence > conf_t:\n",
        "        center_x = int(detection[0] * frame_width)\n",
        "        center_y = int(detection[1] * frame_height)\n",
        "        width = int(detection[2] * frame_width)\n",
        "        height = int(detection[3] * frame_height)\n",
        "        left = int(center_x - width / 2)\n",
        "        top = int(center_y - height / 2)\n",
        "        class_ids.append(class_id) # serially stores class IDs of highest confidence in all layers in an image, for all images\n",
        "        confidences.append(float(confidence)) # serially stores highest confidence in all layers in an image, for all images\n",
        "\n",
        "        # print(\"Left :\", left)\n",
        "        # print(\"Top :\", top)\n",
        "        # print(\"Width :\", width)\n",
        "        # print(\"Height :\", height)\n",
        "        boxes.append([left, top, width, height])# coordinates according to all layers of an image, for all images\n",
        "        # print(\"BOOOOOX : \",boxes)  \n",
        "\n",
        "  processed=None\n",
        "  indices = cv2.dnn.NMSBoxes(boxes, confidences, conf_t, nms_t)\n",
        "  for i in indices:\n",
        "    i = i.item()\n",
        "    box = boxes[i]\n",
        "    left = box[0]\n",
        "    top = box[1]\n",
        "    width = box[2]\n",
        "    height = box[3]\n",
        "        \n",
        "    # calculate bottom and right\n",
        "    bottom = top + height\n",
        "    right = left + width\n",
        "        \n",
        "    #crop the plate out\n",
        "    processed = frame[top:bottom, left:right].copy()\n",
        "    if processed is not None:\n",
        "        return processed"
      ]
    },
    {
      "cell_type": "code",
      "source": [
        "#pred boxes\n",
        "def find_contours(dims, img):\n",
        "\n",
        "  # find all contours in the binary lp image\n",
        "  cntrs, _ = cv2.findContours(img.copy(), cv2.RETR_TREE, cv2.CHAIN_APPROX_SIMPLE)\n",
        "\n",
        "  # the potential dimensions\n",
        "  lower_width = dims[0] # width/6\n",
        "  upper_width = dims[1] # width/2\n",
        "  lower_height = dims[2] # height/10\n",
        "  upper_height = dims[3] # 2*height/3\n",
        "\n",
        "  # sort the contours by area in descending order, top 15\n",
        "  cntrs = sorted(cntrs, key = cv2.contourArea, reverse = True)[:15]\n",
        "\n",
        "  im = cv2.imread('contour.jpg')\n",
        "\n",
        "  x_cntr_list = []\n",
        "  target_contours = []\n",
        "  img_res = []\n",
        "\n",
        "  for i in cntrs:\n",
        "\n",
        "    # detects contour in binary image and returns the coordinates of rectangle enclosing it\n",
        "    X, Y, Width, Height = cv2.boundingRect(i)\n",
        "\n",
        "    # based on contour filter the characters by contour size\n",
        "    if Width > lower_width and Width < upper_width and Height > lower_height and Height < upper_height:\n",
        "\n",
        "      x_cntr_list.append(X) # store X coordinate of the character's contour\n",
        "      char_c = np.zeros((44,24))\n",
        "\n",
        "      # extract characters based on the rectangular coordinates\n",
        "      char = img[Y:Y+Height, X:X+Width]\n",
        "      char = cv2.resize(char, (20, 40))\n",
        "\n",
        "      # take the extracted lp image and draw a rectangle with top-left and bottom right coordinates with () colors and thickness 2\n",
        "      cv2.rectangle(im, (X, Y), (X+Width, Y+Height), (50,21,200), 2)\n",
        "\n",
        "      plt.imshow(im, cmap='gray')\n",
        "      plt.title('Predict Segments')\n",
        "\n",
        "      # Make result formatted for classification: invert colors\n",
        "      char = cv2.subtract(255, char)\n",
        "\n",
        "      # resize the image to 24x44 \n",
        "      char_c[2:42, 2:22] = char\n",
        "\n",
        "      # black borders\n",
        "      char_c[0:2, :] = 0\n",
        "      char_c[:, 0:2] = 0\n",
        "      char_c[42:44, :] = 0\n",
        "      char_c[:, 22:24] = 0\n",
        "\n",
        "      img_res.append(char_c) # list to stores character's binary image\n",
        "\n",
        "  # arbitrary function that stores sorted list of character indices\n",
        "  indices = sorted(range(len(x_cntr_list)), key=lambda k: x_cntr_list[k])\n",
        "  img_res_copy = []\n",
        "  for idx in indices:\n",
        "      img_res_copy.append(img_res[idx])# stores character images according to their index\n",
        "  img_res = np.array(img_res_copy)\n",
        "\n",
        "  return img_res"
      ],
      "metadata": {
        "id": "WkPorOYahvTa"
      },
      "execution_count": 11,
      "outputs": []
    },
    {
      "cell_type": "code",
      "source": [
        "def character_segmentation(img):\n",
        "\n",
        "  # if not isinstance(img, np.ndarray):\n",
        "  #       raise ValueError(\"Input image must be a NumPy array.\")\n",
        "  # pre-process\n",
        "  lp_img = cv2.resize(img, (333, 75)) # width x height\n",
        "  gray_lp_img = cv2.cvtColor(lp_img, cv2.COLOR_BGR2GRAY)\n",
        "\n",
        "  # thresholding the image to convert it to binary image\n",
        "  # input image, threshold value, maximum value, cv2.THRESH_BINARY (white for above threshold) + optimize threshold value \n",
        "  _, binary_lp_img = cv2.threshold(gray_lp_img, 200, 255, cv2.THRESH_BINARY + cv2.THRESH_OTSU)\n",
        "\n",
        "  # cv2.erode() function works by taking the input image and the kernel, and then looping over each pixel in the input image. \n",
        "  # For each pixel, the function checks to see if all of the pixels under the kernel are the same color as the pixel. \n",
        "  # If they are, then the pixel in the output image is set to that color. \n",
        "  # Otherwise, the pixel in the output image is set to black\n",
        "  # HELPS IN NOISE REMOVAL - by shrinking small objects\n",
        "  # Isolating objects in an image\n",
        "  # Thickening the edges of objects in an image\n",
        "  binary_lp_img = cv2.erode(binary_lp_img, (3, 3))\n",
        "\n",
        "  # For each pixel under the kernel, if any of the pixels are bright, then the pixel at the center of the kernel is set to bright. This process is repeated for every pixel in the image.\n",
        "  # The dilated image is then returned\n",
        "  # HELPS IN :-\n",
        "  # Joining broken parts of an object in an image\n",
        "  # Connecting adjacent objects in an image\n",
        "  # Removing noise from an image\n",
        "  binary_lp_img = cv2.dilate(binary_lp_img, (3, 3))\n",
        "\n",
        "  width_lp = binary_lp_img.shape[0] # 75\n",
        "  height_lp = binary_lp_img.shape[1] # 333\n",
        "  \n",
        "  # making borders white\n",
        "  binary_lp_img[:, 0:3] = 255 # left border\n",
        "  binary_lp_img[72:75, :] = 255 # bottom border\n",
        "  binary_lp_img[0:3, :] = 255 # top border\n",
        "  binary_lp_img[:, 330:333] = 255 # right border\n",
        "  # plt.imshow(binary_lp_img)\n",
        "  \n",
        "  dims = [width_lp/6, width_lp/2, height_lp/10, 2*height_lp/3]\n",
        "  plt.imshow(binary_lp_img, cmap = 'gray') # colormap\n",
        "  plt.title('Contour')\n",
        "  plt.show()\n",
        "  cv2.imwrite('contour.jpg',binary_lp_img)\n",
        "\n",
        "  char_list = find_contours(dims, binary_lp_img)\n",
        "\n",
        "  return char_list"
      ],
      "metadata": {
        "id": "sAgbx49LhyEn"
      },
      "execution_count": 12,
      "outputs": []
    },
    {
      "cell_type": "markdown",
      "source": [
        "**Character Recognition** "
      ],
      "metadata": {
        "id": "hn721BVEF5A3"
      }
    },
    {
      "cell_type": "code",
      "execution_count": 13,
      "metadata": {
        "id": "aLe-iBseWW59"
      },
      "outputs": [],
      "source": [
        "# # gdir + \"yolo_utils/lapi.weights\"\n",
        "# aug_data = ImageDataGenerator(rescale= 1./255, width_shift_range=0.1, height_shift_range=0.1)\n",
        "# path = gdir + \"datasets/data\"\n",
        "\n",
        "# train_generator = aug_data.flow_from_directory(\n",
        "#         path+'/train',  # this is the target directory\n",
        "#         target_size=(28,28),  # all images will be resized to 28x28\n",
        "#         batch_size=1,\n",
        "#         class_mode='sparse')\n",
        "\n",
        "# validation_generator = aug_data.flow_from_directory(\n",
        "#         path+'/val',  # this is the target directory\n",
        "#         target_size=(28,28),  # all images will be resized to 28x28 batch_size=1,\n",
        "#         class_mode='sparse')"
      ]
    },
    {
      "cell_type": "code",
      "source": [
        "# K.clear_session()\n",
        "# model = Sequential()\n",
        "# model.add(Conv2D(16, (22,22), input_shape=(28, 28, 3), activation='relu', padding='same'))\n",
        "# model.add(Conv2D(32, (16,16), input_shape=(28, 28, 3), activation='relu', padding='same'))\n",
        "# model.add(Conv2D(64, (8,8), input_shape=(28, 28, 3), activation='relu', padding='same'))\n",
        "# model.add(Conv2D(64, (4,4), input_shape=(28, 28, 3), activation='relu', padding='same'))\n",
        "# model.add(MaxPooling2D(pool_size=(4, 4)))\n",
        "# model.add(Dropout(0.4))\n",
        "# model.add(Flatten())\n",
        "# model.add(Dense(128, activation='relu'))\n",
        "# model.add(Dense(36, activation='softmax'))\n",
        "\n",
        "# model.compile(loss='sparse_categorical_crossentropy', optimizer=optimizers.Adam(learning_rate=0.0001), metrics='accuracy')"
      ],
      "metadata": {
        "id": "qx2v2EhWIJsR"
      },
      "execution_count": 14,
      "outputs": []
    },
    {
      "cell_type": "code",
      "source": [
        "# model.summary()"
      ],
      "metadata": {
        "id": "xTKUjM6cIf0c"
      },
      "execution_count": 15,
      "outputs": []
    },
    {
      "cell_type": "code",
      "source": [
        "# batch_size = 1\n",
        "# result = model.fit(\n",
        "#       train_generator,\n",
        "#       steps_per_epoch = train_generator.samples // batch_size,\n",
        "#       validation_data = validation_generator, \n",
        "#       epochs = 25, verbose=1, callbacks=None)"
      ],
      "metadata": {
        "id": "O0a7phwKIiKb"
      },
      "execution_count": 16,
      "outputs": []
    },
    {
      "cell_type": "code",
      "source": [
        "# import matplotlib.gridspec as gridspec\n",
        "\n",
        "# fig = plt.figure(figsize=(14,5))\n",
        "# grid=gridspec.GridSpec(ncols=2,nrows=1,figure=fig)\n",
        "# fig.add_subplot(grid[0])\n",
        "# plt.plot(result.history['accuracy'], label='training accuracy')\n",
        "# plt.plot(result.history['val_accuracy'], label='val accuracy')\n",
        "# plt.title('Accuracy')\n",
        "# plt.xlabel('epochs')\n",
        "# plt.ylabel('accuracy')\n",
        "# plt.legend()\n",
        "\n",
        "# fig.add_subplot(grid[1])\n",
        "# plt.plot(result.history['loss'], label='training loss')\n",
        "# plt.plot(result.history['val_loss'], label='val loss')\n",
        "# plt.title('Loss')\n",
        "# plt.xlabel('epochs')\n",
        "# plt.ylabel('loss')\n",
        "# plt.legend()\n"
      ],
      "metadata": {
        "id": "M9VIPbDhtOd_"
      },
      "execution_count": 17,
      "outputs": []
    },
    {
      "cell_type": "code",
      "source": [
        "# !mkdir /content/drive/MyDrive/colab/checkpoints"
      ],
      "metadata": {
        "id": "qyTdvAX7ujPt"
      },
      "execution_count": 18,
      "outputs": []
    },
    {
      "cell_type": "code",
      "source": [
        "# model.save_weights(gdir + \"checkpoints/cnn_i\")"
      ],
      "metadata": {
        "id": "uaGSl4ROuJmw"
      },
      "execution_count": 19,
      "outputs": []
    },
    {
      "cell_type": "code",
      "source": [
        "# Create a new model instance\n",
        "loaded_model = Sequential()\n",
        "loaded_model.add(Conv2D(16, (22,22), input_shape=(28, 28, 3), activation='relu', padding='same'))\n",
        "loaded_model.add(Conv2D(32, (16,16), input_shape=(28, 28, 3), activation='relu', padding='same'))\n",
        "loaded_model.add(Conv2D(64, (8,8), input_shape=(28, 28, 3), activation='relu', padding='same'))\n",
        "loaded_model.add(Conv2D(64, (4,4), input_shape=(28, 28, 3), activation='relu', padding='same'))\n",
        "loaded_model.add(MaxPooling2D(pool_size=(4, 4)))\n",
        "loaded_model.add(Dropout(0.4))\n",
        "loaded_model.add(Flatten())\n",
        "loaded_model.add(Dense(128, activation='relu'))\n",
        "loaded_model.add(Dense(36, activation='softmax'))\n",
        "\n",
        "# Restore the weights\n",
        "loaded_model.load_weights(gdir + 'checkpoints/cnn_i')"
      ],
      "metadata": {
        "colab": {
          "base_uri": "https://localhost:8080/"
        },
        "id": "Mb4gUeGCvImz",
        "outputId": "aed02699-6738-45ca-e6b2-7ee1c970f149"
      },
      "execution_count": 20,
      "outputs": [
        {
          "output_type": "execute_result",
          "data": {
            "text/plain": [
              "<tensorflow.python.checkpoint.checkpoint.CheckpointLoadStatus at 0x7f0c606ab3a0>"
            ]
          },
          "metadata": {},
          "execution_count": 20
        }
      ]
    },
    {
      "cell_type": "code",
      "source": [
        "# Predicting the output\n",
        "def fix_dimension(img): \n",
        "    new_img = np.zeros((28,28,3))\n",
        "    for i in range(3):\n",
        "        new_img[:,:,i] = img\n",
        "        return new_img\n",
        "  \n",
        "def show_results(count, row):\n",
        "    dic = {}\n",
        "    characters = '0123456789ABCDEFGHIJKLMNOPQRSTUVWXYZ'\n",
        "    for i,c in enumerate(characters):\n",
        "        dic[i] = c\n",
        "\n",
        "    output = []\n",
        "    for i,ch in enumerate(char): #iterating over the characters\n",
        "        img_ = cv2.resize(ch, (28,28), interpolation=cv2.INTER_AREA)\n",
        "        img = fix_dimension(img_)\n",
        "        img = img.reshape(1,28,28,3) #preparing image for the model\n",
        "        y_ = loaded_model.predict(img)[0] #predicting the class\n",
        "        y_ = np.argmax(y_)\n",
        "        character = dic[y_]\n",
        "        output.append(character) #storing the result in a list\n",
        "        \n",
        "    plate_number = ''.join(output)\n",
        "    print(plate_number)\n",
        "    if plate_number==row:\n",
        "        count+=1\n",
        "    return count\n",
        "\n",
        "# print(show_results())"
      ],
      "metadata": {
        "id": "mFQwgEo4vqa4"
      },
      "execution_count": 21,
      "outputs": []
    },
    {
      "cell_type": "markdown",
      "source": [
        "Testing Block"
      ],
      "metadata": {
        "id": "9Wdo5nKuWXjo"
      }
    },
    {
      "cell_type": "code",
      "source": [
        "import matplotlib.pyplot as plt\n",
        "\n",
        "test_img_dir = os.listdir( gdir + \"datasets/test_dataset/test_dataset/images\")\n",
        "inp_img_path = gdir + 'datasets/test_dataset/test_dataset/images/' + '105.JPG'\n",
        "path = '105.JPG'\n",
        "is_video = False\n",
        "no = path.split('.')\n",
        "row = labels['NUMBER'].where(labels['ID'] == no[0]).dropna().values[0]\n",
        "frame = cv2.imread(inp_img_path)\n",
        "\n",
        "try:\n",
        "  blob = cv2.dnn.blobFromImage(frame, 1/255, (inp_width, inp_height),[0,0,0], 1, crop=False)\n",
        "except:\n",
        "  exit(0)\n",
        "\n",
        "net.setInput(blob)\n",
        "outs = net.forward(output_layer_names(net)) # size is 3\n",
        "processed = postprocess(frame, outs)\n",
        "count = 0\n",
        "if processed is not None:   \n",
        "  timings, inf_time = net.getPerfProfile()\n",
        "  perf_label = 'Inference time: %.2f ms' % (timings * 1000.0 / cv2.getTickFrequency())\n",
        "  char=character_segmentation(processed)\n",
        "  count=show_results(count, row)\n",
        "  print(\"YOLO\")\n",
        "  print(\"Accuracy: \"+str((count/1)*100)+\"%\")\n",
        "  # print(plate)\n",
        "else:\n",
        "  ####\n",
        "  image = cv2.imread(inp_img_path)\n",
        "  # Resize the image - change width to 500\n",
        "  image = imutils.resize(image, width=500)\n",
        "  img=cv2.cvtColor(image, cv2.COLOR_BGR2RGB)\n",
        "\n",
        "  # RGB to Gray scale conversion\n",
        "  gray = cv2.cvtColor(image, cv2.COLOR_BGR2GRAY)\n",
        "\n",
        "  # Noise removal with iterative bilateral filter(removes noise while preserving edges)\n",
        "  gray = cv2.bilateralFilter(gray, 11, 17, 17)\n",
        "\n",
        "  # Find Edges of the grayscale image\n",
        "  edged = cv2.Canny(gray, 170, 200)\n",
        "\n",
        "  # Find contours based on Edges\n",
        "  cnts = cv2.findContours(edged.copy(), cv2.RETR_LIST, cv2.CHAIN_APPROX_SIMPLE)[0]\n",
        "  cnts=sorted(cnts, key = cv2.contourArea, reverse = True)[:30] #sort contours based on their area keeping minimum required area as '30' (anything smaller than this will not be considered)\n",
        "  NumberPlateCnt = None #we currently have no Number plate contour\n",
        "\n",
        "  # loop over our contours to find the best possible approximate contour of number plate\n",
        "  for c in cnts:\n",
        "          peri = cv2.arcLength(c, True)\n",
        "          approx = cv2.approxPolyDP(c, 0.02 * peri, True)\n",
        "          if len(approx) == 4:  # Select the contour with 4 corners\n",
        "              NumberPlateCnt = approx #This is our approx Number Plate Contour\n",
        "              x,y,w,h = cv2.boundingRect(c)\n",
        "              ROI = img[y:y+h, x:x+w]\n",
        "              break\n",
        "\n",
        "  idx=0\n",
        "  m=0\n",
        "  # if NumberPlateCnt is None:\n",
        "  #     continue\n",
        "  for i in range(4):\n",
        "      if NumberPlateCnt[i][0][1]>m:\n",
        "          idx=i\n",
        "          m=NumberPlateCnt[i][0][1]\n",
        "  if idx==0:\n",
        "      pin=3\n",
        "  else:\n",
        "      pin=idx-1\n",
        "  if idx==3:\n",
        "      nin=0\n",
        "  else:\n",
        "      nin=idx+1\n",
        "\n",
        "  p=eud(NumberPlateCnt[idx][0][0], NumberPlateCnt[pin][0][0], NumberPlateCnt[idx][0][1], NumberPlateCnt[pin][0][1])\n",
        "  n=eud(NumberPlateCnt[idx][0][0], NumberPlateCnt[nin][0][0], NumberPlateCnt[idx][0][1], NumberPlateCnt[nin][0][1])\n",
        "\n",
        "  if p>n:\n",
        "      if NumberPlateCnt[pin][0][0]<NumberPlateCnt[idx][0][0]:\n",
        "          left=pin\n",
        "          right=idx\n",
        "      else:\n",
        "          left=idx\n",
        "          right=pin\n",
        "      d=p\n",
        "  else:\n",
        "      if NumberPlateCnt[nin][0][0]<NumberPlateCnt[idx][0][0]:\n",
        "          left=nin\n",
        "          right=idx\n",
        "      else:\n",
        "          left=idx\n",
        "          right=nin\n",
        "      d=n\n",
        "  left_x=NumberPlateCnt[left][0][0]\n",
        "  left_y=NumberPlateCnt[left][0][1]\n",
        "  right_x=NumberPlateCnt[right][0][0]\n",
        "  right_y=NumberPlateCnt[right][0][1]\n",
        "\n",
        "  opp=right_y-left_y\n",
        "  hyp=((left_x-right_x)**2+(left_y-right_y)**2)**0.5\n",
        "  sin=opp/hyp\n",
        "  theta=math.asin(sin)*57.2958\n",
        "\n",
        "  image_center = tuple(np.array(ROI.shape[1::-1]) / 2)\n",
        "  rot_mat = cv2.getRotationMatrix2D(image_center, theta, 1.0)\n",
        "  result = cv2.warpAffine(ROI, rot_mat, ROI.shape[1::-1], flags=cv2.INTER_LINEAR)\n",
        "\n",
        "  if opp>0:\n",
        "      h=result.shape[0]-opp//2\n",
        "  else:\n",
        "      h=result.shape[0]+opp//2\n",
        "\n",
        "  result=result[0:h, :]\n",
        "  char=character_segmentation(result)\n",
        "  count=show_results(count, row)\n",
        "  print(\"CONTOUR\")\n",
        "  print(\"Accuracy: \"+str((count/1)*100)+\"%\")\n",
        "\n"
      ],
      "metadata": {
        "colab": {
          "base_uri": "https://localhost:8080/",
          "height": 545
        },
        "id": "F-syplHkE_Y7",
        "outputId": "343008fe-c7c0-40a0-d21c-7d53cb18baad"
      },
      "execution_count": 23,
      "outputs": [
        {
          "output_type": "display_data",
          "data": {
            "text/plain": [
              "<Figure size 640x480 with 1 Axes>"
            ],
            "image/png": "[encoded data removed]"
          },
          "metadata": {}
        },
        {
          "output_type": "stream",
          "name": "stdout",
          "text": [
            "1/1 [==============================] - 0s 19ms/step\n",
            "1/1 [==============================] - 0s 19ms/step\n",
            "1/1 [==============================] - 0s 19ms/step\n",
            "1/1 [==============================] - 0s 17ms/step\n",
            "1/1 [==============================] - 0s 20ms/step\n",
            "1/1 [==============================] - 0s 19ms/step\n",
            "1/1 [==============================] - 0s 22ms/step\n",
            "NVH6Y89\n",
            "YOLO\n",
            "Accuracy: 100.0%\n"
          ]
        },
        {
          "output_type": "display_data",
          "data": {
            "text/plain": [
              "<Figure size 640x480 with 1 Axes>"
            ],
            "image/png": "[encoded data removed]"
          },
          "metadata": {}
        }
      ]
    }
  ],
  "metadata": {
    "colab": {
      "provenance": [],
      "gpuType": "T4",
      "authorship_tag": "ABX9TyNAQbdjN33rwoLCNuxGYFsc",
      "include_colab_link": true
    },
    "kernelspec": {
      "display_name": "Python 3",
      "name": "python3"
    },
    "language_info": {
      "name": "python"
    },
    "accelerator": "GPU"
  },
  "nbformat": 4,
  "nbformat_minor": 0
}